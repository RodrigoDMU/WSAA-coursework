{
 "cells": [
  {
   "cell_type": "markdown",
   "metadata": {},
   "source": [
    "## Assignment 04\n",
    "\n",
    "*****\n",
    "\n",
    "- Write a program in python that will read a file from a repository, \n",
    "\n",
    "- The program should then replace all the instances of the text \"Andrew\" with your name. \n",
    "\n",
    "- The program should then commit those changes and push the file back to the repository (You will need authorisation to do this).\n",
    "\n",
    "Author: Rodrigo De Martino Ucedo"
   ]
  },
  {
   "cell_type": "code",
   "execution_count": null,
   "metadata": {},
   "outputs": [],
   "source": []
  }
 ],
 "metadata": {
  "language_info": {
   "name": "python"
  }
 },
 "nbformat": 4,
 "nbformat_minor": 2
}
