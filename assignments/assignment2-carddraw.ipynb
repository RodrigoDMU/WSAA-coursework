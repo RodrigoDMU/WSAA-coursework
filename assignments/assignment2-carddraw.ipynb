{
 "cells": [
  {
   "cell_type": "markdown",
   "metadata": {},
   "source": [
    "## Assignment: Deal cards\n",
    "\n",
    "*****\n",
    "\n",
    "- Look at the the page Deck of Cards API. This is an API that simulates dealing a deck of cards.\n",
    "\n",
    "- Write a program that \"deals\" (prints out) 5 cards, first you need to shuffle, get the deck_id, with the deck_id you can get the cards.\n",
    "\n",
    "- This example gets two cards. From there you need to print the value and the suit of each card and save the file as assignment2-carddraw.py (or as a notebook)\n",
    "\n",
    "- Last few marks: Check if the user has drawn a pair, triple, straight, or all of the same suit and congratulate the user.\n",
    "\n",
    "Author: Rodrigo De Martino Ucedo\n",
    "\n",
    "*****"
   ]
  },
  {
   "cell_type": "code",
   "execution_count": 3,
   "metadata": {},
   "outputs": [
    {
     "name": "stdout",
     "output_type": "stream",
     "text": [
      "You have drawn the following cards:\n",
      "8 of SPADES\n",
      "KING of SPADES\n",
      "8 of HEARTS\n",
      "5 of DIAMONDS\n",
      "3 of SPADES\n",
      "\n",
      "You have a pair of 8!\n"
     ]
    }
   ],
   "source": [
    "# It allows you to send HTTP requests using Python\n",
    "import requests\n",
    "\n",
    "# Shuffle the deck\n",
    "shuffle_url = \"https://deckofcardsapi.com/api/deck/new/shuffle/?deck_count=1\"\n",
    "response = requests.get(shuffle_url)\n",
    "deck_id = response.json()['deck_id']\n",
    "\n",
    "# Draw 5 cards\n",
    "draw_url = f\"https://deckofcardsapi.com/api/deck/{deck_id}/draw/?count=5\"\n",
    "response = requests.get(draw_url)\n",
    "cards = response.json()['cards']\n",
    "\n",
    "# Print the value and suit of each card\n",
    "print(\"You have drawn the following cards:\")\n",
    "drawn_cards = []\n",
    "for card in cards:\n",
    "    print(f\"{card['value']} of {card['suit']}\")\n",
    "    drawn_cards.append((card['value'], card['suit']))\n",
    "\n",
    "# Check for pairs, triples, straights, or all same suit\n",
    "values = [card[0] for card in drawn_cards]\n",
    "suits = [card[1] for card in drawn_cards]\n",
    "\n",
    "# Check for pairs, triples, etc.\n",
    "from collections import Counter\n",
    "\n",
    "value_counts = Counter(values)\n",
    "suit_counts = Counter(suits)\n",
    "\n",
    "# Checking for pairs or triples\n",
    "pairs = [value for value, count in value_counts.items() if count == 2]\n",
    "triples = [value for value, count in value_counts.items() if count == 3]\n",
    "\n",
    "# Checking for straight (sequence of values)\n",
    "value_order = [\"2\", \"3\", \"4\", \"5\", \"6\", \"7\", \"8\", \"9\", \"10\", \"JACK\", \"QUEEN\", \"KING\", \"ACE\"]\n",
    "sorted_values = sorted([value_order.index(value) for value in values])\n",
    "straight = sorted_values == list(range(min(sorted_values), min(sorted_values) + 5))\n",
    "\n",
    "# Checking for all same suit\n",
    "same_suit = len(suit_counts) == 1\n",
    "\n",
    "# Step 5: Congratulate the user if a pattern is found\n",
    "if len(pairs) > 0:\n",
    "    print(f\"\\nYou have a pair of {', '.join(pairs)}!\")\n",
    "elif len(triples) > 0:\n",
    "    print(f\"\\nYou have a triple of {', '.join(triples)}!\")\n",
    "elif straight:\n",
    "    print(\"\\nYou have a straight!\")\n",
    "elif same_suit:\n",
    "    print(\"\\nYou have drawn all cards from the same suit!\")\n",
    "\n",
    "# If no special pattern, let the user know.\n",
    "if not (len(pairs) > 0 or len(triples) > 0 or straight or same_suit):\n",
    "    print(\"\\nNo special patterns found.\")"
   ]
  }
 ],
 "metadata": {
  "kernelspec": {
   "display_name": "base",
   "language": "python",
   "name": "python3"
  },
  "language_info": {
   "codemirror_mode": {
    "name": "ipython",
    "version": 3
   },
   "file_extension": ".py",
   "mimetype": "text/x-python",
   "name": "python",
   "nbconvert_exporter": "python",
   "pygments_lexer": "ipython3",
   "version": "3.11.5"
  }
 },
 "nbformat": 4,
 "nbformat_minor": 2
}
