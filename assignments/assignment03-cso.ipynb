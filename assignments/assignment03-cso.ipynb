{
 "cells": [
  {
   "cell_type": "markdown",
   "metadata": {},
   "source": [
    "## Assignment 03\n",
    "\n",
    "*****"
   ]
  },
  {
   "cell_type": "markdown",
   "metadata": {},
   "source": [
    "- Write a program that retrieves the dataset for the `exchequer account (historical series)` from the CSO, and stores it into a file called `cso.json`.\n",
    "\n",
    "- Upload this program to the same repository you used for the first assignment;\n",
    "- Save this assignment as `assignment03-cso.ipynb`;\n",
    "- This program should not be a long one;\n",
    "- I don't need you to reformat or analyse the data in any way;\n",
    "- It should be about 10ish lines long (I have not counted).\n",
    "\n",
    "- You will need to find the dataset in [CSO.ie](https://www.cso.ie/en/index.html), try economic and then finance, then finance indicators. yes it is difficult to find, that is part of the task, actually the easiest way to find it is search for it.\n",
    "\n",
    "Author: Rodrigo De Martino Ucedo\n",
    "\n",
    "*****"
   ]
  },
  {
   "cell_type": "code",
   "execution_count": null,
   "metadata": {},
   "outputs": [],
   "source": []
  }
 ],
 "metadata": {
  "language_info": {
   "name": "python"
  }
 },
 "nbformat": 4,
 "nbformat_minor": 2
}
