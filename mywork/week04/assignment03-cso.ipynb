{
 "cells": [
  {
   "cell_type": "markdown",
   "metadata": {},
   "source": [
    "## Assignment 03\n",
    "\n",
    "*****"
   ]
  },
  {
   "cell_type": "markdown",
   "metadata": {},
   "source": [
    "- Write a program that retrieves the dataset for the `exchequer account (historical series)` from the CSO, and stores it into a file called `cso.json`.\n",
    "\n",
    "- Upload this program to the same repository you used for the first assignment;\n",
    "- Save this assignment as `assignment03-cso.ipynb`;\n",
    "- This program should not be a long one;\n",
    "- I don't need you to reformat or analyse the data in any way;\n",
    "- It should be about 10ish lines long (I have not counted).\n",
    "\n",
    "- You will need to find the dataset in [CSO.ie](https://www.cso.ie/en/index.html), try economic and then finance, then finance indicators. yes it is difficult to find, that is part of the task, actually the easiest way to find it is search for it.\n",
    "\n",
    "Author: Rodrigo De Martino Ucedo\n",
    "\n",
    "*****"
   ]
  },
  {
   "cell_type": "code",
   "execution_count": 2,
   "metadata": {},
   "outputs": [],
   "source": [
    "import requests\n",
    "import json\n",
    "\n",
    "url = \"https://ws.cso.ie/public/api.restful/PxStat.Data.Cube_API.ReadDataset/FIQ02/JSON-stat/2.0/en\"  # API URL for the dataset\n",
    "response = requests.get(url)\n",
    "data = response.json()\n",
    "\n",
    "with open(\"cso.json\", \"w\") as f:\n",
    "    json.dump(data, f, indent=4)"
   ]
  }
 ],
 "metadata": {
  "kernelspec": {
   "display_name": "base",
   "language": "python",
   "name": "python3"
  },
  "language_info": {
   "codemirror_mode": {
    "name": "ipython",
    "version": 3
   },
   "file_extension": ".py",
   "mimetype": "text/x-python",
   "name": "python",
   "nbconvert_exporter": "python",
   "pygments_lexer": "ipython3",
   "version": "3.11.5"
  }
 },
 "nbformat": 4,
 "nbformat_minor": 2
}
